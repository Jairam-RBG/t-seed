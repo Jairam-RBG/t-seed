{
 "cells": [
  {
   "cell_type": "code",
   "execution_count": 1,
   "id": "5e211547",
   "metadata": {},
   "outputs": [],
   "source": [
    "import os\n",
    "import re\n",
    "import numpy as np\n",
    "import librosa\n",
    "import pandas as pd\n",
    "from progressbar import progressbar\n",
    "from datasets import load_metric\n",
    "from pydub import AudioSegment\n",
    "import random\n",
    "random.seed(10)"
   ]
  },
  {
   "cell_type": "code",
   "execution_count": 2,
   "id": "69b54a72",
   "metadata": {},
   "outputs": [],
   "source": [
    "# path where you untar the downloaded file\n",
    "data_folder = \"/home/ubuntu/speech_data/t-seed/CommonVoice/\""
   ]
  },
  {
   "cell_type": "code",
   "execution_count": 3,
   "id": "80b17188",
   "metadata": {},
   "outputs": [],
   "source": [
    "variation = \"Transliterated\"\n",
    "e_type=\"base\"\n",
    "noise_variation = \"laughter\" # none, rain, wind, laughter"
   ]
  },
  {
   "cell_type": "code",
   "execution_count": 4,
   "id": "49eee123",
   "metadata": {},
   "outputs": [],
   "source": [
    "tsv_file = os.path.join(data_folder, \"Tamil\", \"test.tsv\")"
   ]
  },
  {
   "cell_type": "code",
   "execution_count": 5,
   "id": "c95a86cd",
   "metadata": {},
   "outputs": [],
   "source": [
    "data_frame = pd.read_csv(tsv_file, sep=\"\\t\")"
   ]
  },
  {
   "cell_type": "code",
   "execution_count": 6,
   "id": "024453c2",
   "metadata": {},
   "outputs": [
    {
     "data": {
      "text/plain": [
       "(1781, 3)"
      ]
     },
     "execution_count": 6,
     "metadata": {},
     "output_type": "execute_result"
    }
   ],
   "source": [
    "data_frame.shape"
   ]
  },
  {
   "cell_type": "code",
   "execution_count": 7,
   "id": "9379dfec",
   "metadata": {},
   "outputs": [
    {
     "data": {
      "text/html": [
       "<div>\n",
       "<style scoped>\n",
       "    .dataframe tbody tr th:only-of-type {\n",
       "        vertical-align: middle;\n",
       "    }\n",
       "\n",
       "    .dataframe tbody tr th {\n",
       "        vertical-align: top;\n",
       "    }\n",
       "\n",
       "    .dataframe thead th {\n",
       "        text-align: right;\n",
       "    }\n",
       "</style>\n",
       "<table border=\"1\" class=\"dataframe\">\n",
       "  <thead>\n",
       "    <tr style=\"text-align: right;\">\n",
       "      <th></th>\n",
       "      <th>Unnamed: 0</th>\n",
       "      <th>audios</th>\n",
       "      <th>text</th>\n",
       "    </tr>\n",
       "  </thead>\n",
       "  <tbody>\n",
       "    <tr>\n",
       "      <th>0</th>\n",
       "      <td>0</td>\n",
       "      <td>common_voice_ta_21428682.wav</td>\n",
       "      <td>taim pillaaium sralen rezhundde</td>\n",
       "    </tr>\n",
       "    <tr>\n",
       "      <th>1</th>\n",
       "      <td>1</td>\n",
       "      <td>common_voice_ta_23721822.wav</td>\n",
       "      <td>buniarum neeim enbundai eannalum borundaukve</td>\n",
       "    </tr>\n",
       "    <tr>\n",
       "      <th>2</th>\n",
       "      <td>2</td>\n",
       "      <td>common_voice_ta_23796845.wav</td>\n",
       "      <td>kdai utkl avridam bdindaupon vishiam</td>\n",
       "    </tr>\n",
       "  </tbody>\n",
       "</table>\n",
       "</div>"
      ],
      "text/plain": [
       "   Unnamed: 0                        audios  \\\n",
       "0           0  common_voice_ta_21428682.wav   \n",
       "1           1  common_voice_ta_23721822.wav   \n",
       "2           2  common_voice_ta_23796845.wav   \n",
       "\n",
       "                                            text  \n",
       "0                taim pillaaium sralen rezhundde  \n",
       "1  buniarum neeim enbundai eannalum borundaukve   \n",
       "2           kdai utkl avridam bdindaupon vishiam  "
      ]
     },
     "execution_count": 7,
     "metadata": {},
     "output_type": "execute_result"
    }
   ],
   "source": [
    "data_frame.head(3)"
   ]
  },
  {
   "cell_type": "code",
   "execution_count": 8,
   "id": "48802cf6",
   "metadata": {},
   "outputs": [],
   "source": [
    "# add full path to the file names in the column data_frame[\"audios\"]\n",
    "\n",
    "data_frame[\"audios\"] = data_frame[\"audios\"].apply(lambda x: os.path.join(data_folder, \"Tamil\", x))\n",
    "\n",
    "\n",
    "# lower case the transcripts in the column data_frame[\"text\"]\n",
    "\n",
    "data_frame[\"text\"] = data_frame[\"text\"].apply(lambda x: x.lower())\n",
    "\n",
    "# removing special characters from the transcripts in the column data_frame[\"text\"]\n",
    "\n",
    "chars_to_ignore_regex = '[\\,\\?\\.\\!\\-\\;\\:\\\"\\“\\%\\‘\\”\\�]'\n",
    "\n",
    "def remove_special_characters(sentence):\n",
    "    sentence = re.sub(chars_to_ignore_regex, '', sentence)\n",
    "    return sentence\n",
    "\n",
    "data_frame[\"text\"] = data_frame[\"text\"].apply(lambda x: remove_special_characters(x))"
   ]
  },
  {
   "cell_type": "code",
   "execution_count": 9,
   "id": "2c72fc20",
   "metadata": {},
   "outputs": [
    {
     "data": {
      "text/html": [
       "<div>\n",
       "<style scoped>\n",
       "    .dataframe tbody tr th:only-of-type {\n",
       "        vertical-align: middle;\n",
       "    }\n",
       "\n",
       "    .dataframe tbody tr th {\n",
       "        vertical-align: top;\n",
       "    }\n",
       "\n",
       "    .dataframe thead th {\n",
       "        text-align: right;\n",
       "    }\n",
       "</style>\n",
       "<table border=\"1\" class=\"dataframe\">\n",
       "  <thead>\n",
       "    <tr style=\"text-align: right;\">\n",
       "      <th></th>\n",
       "      <th>Unnamed: 0</th>\n",
       "      <th>audios</th>\n",
       "      <th>text</th>\n",
       "    </tr>\n",
       "  </thead>\n",
       "  <tbody>\n",
       "    <tr>\n",
       "      <th>0</th>\n",
       "      <td>0</td>\n",
       "      <td>/home/ubuntu/speech_data/t-seed/CommonVoice/Ta...</td>\n",
       "      <td>taim pillaaium sralen rezhundde</td>\n",
       "    </tr>\n",
       "    <tr>\n",
       "      <th>1</th>\n",
       "      <td>1</td>\n",
       "      <td>/home/ubuntu/speech_data/t-seed/CommonVoice/Ta...</td>\n",
       "      <td>buniarum neeim enbundai eannalum borundaukve</td>\n",
       "    </tr>\n",
       "    <tr>\n",
       "      <th>2</th>\n",
       "      <td>2</td>\n",
       "      <td>/home/ubuntu/speech_data/t-seed/CommonVoice/Ta...</td>\n",
       "      <td>kdai utkl avridam bdindaupon vishiam</td>\n",
       "    </tr>\n",
       "  </tbody>\n",
       "</table>\n",
       "</div>"
      ],
      "text/plain": [
       "   Unnamed: 0                                             audios  \\\n",
       "0           0  /home/ubuntu/speech_data/t-seed/CommonVoice/Ta...   \n",
       "1           1  /home/ubuntu/speech_data/t-seed/CommonVoice/Ta...   \n",
       "2           2  /home/ubuntu/speech_data/t-seed/CommonVoice/Ta...   \n",
       "\n",
       "                                            text  \n",
       "0                taim pillaaium sralen rezhundde  \n",
       "1  buniarum neeim enbundai eannalum borundaukve   \n",
       "2           kdai utkl avridam bdindaupon vishiam  "
      ]
     },
     "execution_count": 9,
     "metadata": {},
     "output_type": "execute_result"
    }
   ],
   "source": [
    "data_frame.head(3)"
   ]
  },
  {
   "cell_type": "code",
   "execution_count": 10,
   "id": "1f4aea22",
   "metadata": {},
   "outputs": [
    {
     "name": "stdout",
     "output_type": "stream",
     "text": [
      "/home/ubuntu/speech_data/t-seed/CommonVoice/Tamil/common_voice_ta_23721822.wav\n"
     ]
    }
   ],
   "source": [
    "# viewing path of a single file\n",
    "# \"/home/ubuntu/speech_data/t-seed/LibriSpeech/\" will be path where you untar the downloaded file\n",
    "print(data_frame[\"audios\"][1])"
   ]
  },
  {
   "cell_type": "code",
   "execution_count": 11,
   "id": "720f5618",
   "metadata": {},
   "outputs": [
    {
     "name": "stdout",
     "output_type": "stream",
     "text": [
      "22050\n"
     ]
    }
   ],
   "source": [
    "# check one file from the data_frame for specifications\n",
    "audio_array, sampling_rate = librosa.load(data_frame[\"audios\"][1])\n",
    "\n",
    "print(sampling_rate)"
   ]
  },
  {
   "cell_type": "code",
   "execution_count": 12,
   "id": "f40de287",
   "metadata": {},
   "outputs": [
    {
     "name": "stdout",
     "output_type": "stream",
     "text": [
      "16000\n"
     ]
    }
   ],
   "source": [
    "# resampling audio file to 16 KHz\n",
    "\n",
    "audio_array, sampling_rate = librosa.load(data_frame[\"audios\"][1], sr=16000)\n",
    "print(sampling_rate)"
   ]
  },
  {
   "cell_type": "code",
   "execution_count": 13,
   "id": "69a218b6",
   "metadata": {},
   "outputs": [
    {
     "name": "stdout",
     "output_type": "stream",
     "text": [
      "5701\n"
     ]
    }
   ],
   "source": [
    "# getting unique words in the transcripts to use it with the language modeler\n",
    "\n",
    "words = \" \".join(list(data_frame[\"text\"])).split()\n",
    "unique_words = list(set(words))\n",
    "print(len(unique_words))"
   ]
  },
  {
   "cell_type": "markdown",
   "id": "1f23ff0d",
   "metadata": {},
   "source": [
    "### Prediction"
   ]
  },
  {
   "cell_type": "code",
   "execution_count": 14,
   "id": "c060ecf7",
   "metadata": {},
   "outputs": [],
   "source": [
    "\n",
    "import config\n",
    "import torch\n",
    "from transformers import Wav2Vec2ForCTC, Wav2Vec2Processor\n",
    "transcriber_processor = Wav2Vec2Processor.from_pretrained(\"wav2vec2-large-rbg-tamil\")\n",
    "transcriber_processor.tokenizer.do_lower_case = True\n",
    "transcriber_encoder_model = Wav2Vec2ForCTC.from_pretrained(\"wav2vec2-large-rbg-tamil\")\n",
    "transcriber_encoder_model  = transcriber_encoder_model.to(\"cuda\")"
   ]
  },
  {
   "cell_type": "code",
   "execution_count": 15,
   "id": "f08a35f0",
   "metadata": {},
   "outputs": [],
   "source": [
    "# noise folder path\n",
    "noise_folder = \"noise/matrix/\"\n",
    "\n",
    "rain_noises = ['1-56311-A-10.wav', '1-63871-A-10.wav', '2-101676-A-10.wav', '2-117625-A-10.wav', '5-181766-A-10.wav', '5-188655-A-10.wav', '3-157487-A-10.wav', '3-157615-A-10.wav', '4-160999-A-10.wav', '4-161127-A-10.wav']\n",
    "wind_noises = ['1-51037-A-16.wav', '1-69760-A-16.wav', '2-104952-A-16.wav', '2-104952-B-16.wav', '3-246513-A-16.wav', '3-246513-B-16.wav', '4-144083-A-16.wav', '4-144083-B-16.wav', '5-157204-A-16.wav', '5-157204-B-16.wav']\n",
    "laughter_noises = ['1-72695-A-26.wav', '1-73123-A-26.wav', '2-109759-A-26.wav','2-109759-B-26.wav', '3-152912-A-26.wav', '3-152997-A-26.wav', '4-132803-A-26.wav', '4-132810-A-26.wav', '5-242932-B-26.wav','5-244526-A-26.wav']\n",
    "\n",
    "rain_noises = [os.path.join(noise_folder, file) for file in rain_noises]\n",
    "wind_noises = [os.path.join(noise_folder, file) for file in wind_noises]\n",
    "laughter_noises = [os.path.join(noise_folder, file) for file in laughter_noises]\n",
    "\n",
    "noise_dict = {'rain': rain_noises, 'wind': wind_noises, 'laughter': laughter_noises}"
   ]
  },
  {
   "cell_type": "code",
   "execution_count": 16,
   "id": "4cedfb53",
   "metadata": {},
   "outputs": [],
   "source": [
    "# prediction against base model with and without language modeler\n",
    "\n",
    "def get_transcriptions(audio_path, unique_words, e_type=\"base\", noise_type=\"none\"):\n",
    "    \n",
    "    if noise_type == \"none\":\n",
    "        audio_array, sampling_rate = librosa.load(audio_path, sr=16000)\n",
    "    else:\n",
    "        GAIN_CONSTANT = -34.\n",
    "        NOISE_VOLUME=0.3\n",
    "        noise_file = random.choice(noise_dict[noise_type])\n",
    "        audio = AudioSegment.from_file(audio_path, 'wav')\n",
    "        audio = audio.normalize()\n",
    "        background = AudioSegment.from_file(noise_file, 'wav')\n",
    "        background = background.normalize()\n",
    "        background = background.apply_gain(GAIN_CONSTANT * (1. - 0.3))\n",
    "        output = audio.overlay(background, position=0, loop=True)\n",
    "        output = output.set_frame_rate(16000)\n",
    "        output.export(\"temp.wav\", format='wav')\n",
    "        audio_array, sampling_rate = librosa.load(\"temp.wav\", sr=16000)\n",
    "        \n",
    "    inputs = transcriber_processor(audio_array, sampling_rate=16000,\n",
    "                                       return_tensors=\"pt\", padding=True)\n",
    "    inputs = inputs.to(\"cuda\")\n",
    "    with torch.no_grad():\n",
    "            character_probability = transcriber_encoder_model(inputs.input_values,\n",
    "                                                              attention_mask=inputs.attention_mask).logits\n",
    "    inputs = inputs.to(\"cpu\")\n",
    "    predicted_ids = torch.argmax(character_probability, dim=-1)\n",
    "    encoder_text = transcriber_processor.batch_decode(predicted_ids)[0]\n",
    "    \n",
    "    decoder_text = \"None\" # \"not disclosed\"\n",
    "    \n",
    "    return encoder_text, decoder_text"
   ]
  },
  {
   "cell_type": "code",
   "execution_count": 17,
   "id": "99cde909",
   "metadata": {},
   "outputs": [
    {
     "name": "stderr",
     "output_type": "stream",
     "text": [
      "  0% (0 of 1781) |                       | Elapsed Time: 0:00:00 ETA:  --:--:--/home/ubuntu/AISS/common/transformers/feature_extraction_utils.py:158: UserWarning: Creating a tensor from a list of numpy.ndarrays is extremely slow. Please consider converting the list to a single numpy.ndarray with numpy.array() before converting to a tensor. (Triggered internally at  ../torch/csrc/utils/tensor_new.cpp:201.)\n",
      "  tensor = as_tensor(value)\n",
      "/home/ubuntu/AISS/common/transformers/models/wav2vec2/modeling_wav2vec2.py:875: UserWarning: __floordiv__ is deprecated, and its behavior will change in a future version of pytorch. It currently rounds toward 0 (like the 'trunc' function NOT 'floor'). This results in incorrect rounding for negative values. To keep the current behavior, use torch.div(a, b, rounding_mode='trunc'), or for actual floor division, use torch.div(a, b, rounding_mode='floor').\n",
      "  return (input_length - kernel_size) // stride + 1\n",
      "100% (1781 of 1781) |####################| Elapsed Time: 0:13:30 Time:  0:13:30\n"
     ]
    }
   ],
   "source": [
    "without_lm_op = list()\n",
    "with_lm_op = list()\n",
    "\n",
    "for item in progressbar(data_frame[\"audios\"]):\n",
    "    e_text, d_text = get_transcriptions(item, unique_words, e_type=\"base\", noise_type=noise_variation)\n",
    "    without_lm_op.append(e_text)\n",
    "    with_lm_op.append(d_text)\n",
    "\n",
    "data_frame[\"without_lm\"] = without_lm_op\n",
    "data_frame[\"with_lm\"] = with_lm_op\n",
    "data_frame.to_csv(\"results/CommonVoice-Tamil-\"+ e_type  + \"-\" + variation + \"-\" + noise_variation + \".tsv\", sep=\"\\t\", index=False)"
   ]
  },
  {
   "cell_type": "code",
   "execution_count": 18,
   "id": "6c8242e3",
   "metadata": {},
   "outputs": [
    {
     "data": {
      "text/html": [
       "<div>\n",
       "<style scoped>\n",
       "    .dataframe tbody tr th:only-of-type {\n",
       "        vertical-align: middle;\n",
       "    }\n",
       "\n",
       "    .dataframe tbody tr th {\n",
       "        vertical-align: top;\n",
       "    }\n",
       "\n",
       "    .dataframe thead th {\n",
       "        text-align: right;\n",
       "    }\n",
       "</style>\n",
       "<table border=\"1\" class=\"dataframe\">\n",
       "  <thead>\n",
       "    <tr style=\"text-align: right;\">\n",
       "      <th></th>\n",
       "      <th>Unnamed: 0</th>\n",
       "      <th>audios</th>\n",
       "      <th>text</th>\n",
       "      <th>without_lm</th>\n",
       "      <th>with_lm</th>\n",
       "    </tr>\n",
       "  </thead>\n",
       "  <tbody>\n",
       "    <tr>\n",
       "      <th>0</th>\n",
       "      <td>0</td>\n",
       "      <td>/home/ubuntu/speech_data/t-seed/CommonVoice/Ta...</td>\n",
       "      <td>taim pillaaium sralen rezhundde</td>\n",
       "      <td>taim pillaium srlin niyerundae</td>\n",
       "      <td>taim pillaaium sralen nedund</td>\n",
       "    </tr>\n",
       "    <tr>\n",
       "      <th>1</th>\n",
       "      <td>1</td>\n",
       "      <td>/home/ubuntu/speech_data/t-seed/CommonVoice/Ta...</td>\n",
       "      <td>buniarum neeim enbundai eannalum borundaukve</td>\n",
       "      <td>boriddu meeim enkulvi  ennalum dovitpuvudve</td>\n",
       "      <td>boradu neeim en udvi  eannalum kovith udvi</td>\n",
       "    </tr>\n",
       "    <tr>\n",
       "      <th>2</th>\n",
       "      <td>2</td>\n",
       "      <td>/home/ubuntu/speech_data/t-seed/CommonVoice/Ta...</td>\n",
       "      <td>kdai utkl avridam bdindaupon vishiam</td>\n",
       "      <td>kdai muthid laribm bdindau bolnher</td>\n",
       "      <td>kdai muth arib  bdindau bonr sare</td>\n",
       "    </tr>\n",
       "    <tr>\n",
       "      <th>3</th>\n",
       "      <td>3</td>\n",
       "      <td>/home/ubuntu/speech_data/t-seed/CommonVoice/Ta...</td>\n",
       "      <td>neengal nernru keiraib boryel sappittirkla</td>\n",
       "      <td>neengal nernru keirai boraiil sappittirkla</td>\n",
       "      <td>neengal nernru keiraib borul sappittirkla</td>\n",
       "    </tr>\n",
       "    <tr>\n",
       "      <th>4</th>\n",
       "      <td>4</td>\n",
       "      <td>/home/ubuntu/speech_data/t-seed/CommonVoice/Ta...</td>\n",
       "      <td>vaithl dmizher nurhl</td>\n",
       "      <td>vaitholl dmizher nurhl</td>\n",
       "      <td>vaith ull dmizher nurhl</td>\n",
       "    </tr>\n",
       "  </tbody>\n",
       "</table>\n",
       "</div>"
      ],
      "text/plain": [
       "   Unnamed: 0                                             audios  \\\n",
       "0           0  /home/ubuntu/speech_data/t-seed/CommonVoice/Ta...   \n",
       "1           1  /home/ubuntu/speech_data/t-seed/CommonVoice/Ta...   \n",
       "2           2  /home/ubuntu/speech_data/t-seed/CommonVoice/Ta...   \n",
       "3           3  /home/ubuntu/speech_data/t-seed/CommonVoice/Ta...   \n",
       "4           4  /home/ubuntu/speech_data/t-seed/CommonVoice/Ta...   \n",
       "\n",
       "                                            text  \\\n",
       "0                taim pillaaium sralen rezhundde   \n",
       "1  buniarum neeim enbundai eannalum borundaukve    \n",
       "2           kdai utkl avridam bdindaupon vishiam   \n",
       "3    neengal nernru keiraib boryel sappittirkla    \n",
       "4                           vaithl dmizher nurhl   \n",
       "\n",
       "                                    without_lm  \\\n",
       "0               taim pillaium srlin niyerundae   \n",
       "1  boriddu meeim enkulvi  ennalum dovitpuvudve   \n",
       "2           kdai muthid laribm bdindau bolnher   \n",
       "3   neengal nernru keirai boraiil sappittirkla   \n",
       "4                       vaitholl dmizher nurhl   \n",
       "\n",
       "                                      with_lm  \n",
       "0                taim pillaaium sralen nedund  \n",
       "1  boradu neeim en udvi  eannalum kovith udvi  \n",
       "2           kdai muth arib  bdindau bonr sare  \n",
       "3   neengal nernru keiraib borul sappittirkla  \n",
       "4                     vaith ull dmizher nurhl  "
      ]
     },
     "execution_count": 18,
     "metadata": {},
     "output_type": "execute_result"
    }
   ],
   "source": [
    "data_frame.head(5)"
   ]
  },
  {
   "cell_type": "code",
   "execution_count": 19,
   "id": "b6cae54b",
   "metadata": {},
   "outputs": [],
   "source": [
    "wer_metric = load_metric(\"wer\")\n",
    "without_lm_wer = wer_metric.compute(predictions=data_frame[\"without_lm\"], references=data_frame[\"text\"])\n",
    "with_lm_wer = wer_metric.compute(predictions=data_frame[\"with_lm\"], references=data_frame[\"text\"])"
   ]
  },
  {
   "cell_type": "code",
   "execution_count": 20,
   "id": "bc524b8c",
   "metadata": {},
   "outputs": [
    {
     "data": {
      "text/plain": [
       "0.6357485198759515"
      ]
     },
     "execution_count": 20,
     "metadata": {},
     "output_type": "execute_result"
    }
   ],
   "source": [
    "without_lm_wer "
   ]
  },
  {
   "cell_type": "code",
   "execution_count": 21,
   "id": "3f520993",
   "metadata": {},
   "outputs": [
    {
     "data": {
      "text/plain": [
       "0.2864392444319143"
      ]
     },
     "execution_count": 21,
     "metadata": {},
     "output_type": "execute_result"
    }
   ],
   "source": [
    "with_lm_wer"
   ]
  }
 ],
 "metadata": {
  "kernelspec": {
   "display_name": "seed",
   "language": "python",
   "name": "seed"
  },
  "language_info": {
   "codemirror_mode": {
    "name": "ipython",
    "version": 3
   },
   "file_extension": ".py",
   "mimetype": "text/x-python",
   "name": "python",
   "nbconvert_exporter": "python",
   "pygments_lexer": "ipython3",
   "version": "3.8.0"
  }
 },
 "nbformat": 4,
 "nbformat_minor": 5
}
