{
 "cells": [
  {
   "cell_type": "code",
   "execution_count": 4,
   "id": "192d912c",
   "metadata": {},
   "outputs": [],
   "source": [
    "from datasets import load_dataset\n",
    "import progressbar\n",
    "import requests\n",
    "import config\n",
    "import json\n",
    "import pandas as pd\n",
    "from datasets import load_metric\n",
    "from indictrans import Transliterator"
   ]
  },
  {
   "cell_type": "code",
   "execution_count": 2,
   "id": "84fce34b",
   "metadata": {},
   "outputs": [],
   "source": [
    "\n",
    "data = \"common_voice\" # \"libri_speech\", \"libri_adapt\"\n",
    "language = \"ta\" # \"ta\", \"hi\", \"en\"\n",
    "\n",
    "result_file = \"results/\" + data + \"_\" + language + \".csv\""
   ]
  },
  {
   "cell_type": "code",
   "execution_count": 3,
   "id": "d931f64a",
   "metadata": {},
   "outputs": [
    {
     "name": "stderr",
     "output_type": "stream",
     "text": [
      "Reusing dataset common_voice (/home/ubuntu/.cache/huggingface/datasets/common_voice/ta/6.1.0/078d412587e9efeb0ae2e574da99c31e18844c496008d53dc5c60f4159ed639b)\n"
     ]
    }
   ],
   "source": [
    "common_voice_test = load_dataset(\"common_voice\", language, split=\"test\")\n",
    "test_files = list(common_voice_test[\"path\"])\n",
    "gold_text = list(common_voice_test[\"sentence\"])"
   ]
  },
  {
   "cell_type": "code",
   "execution_count": 5,
   "id": "8e530253",
   "metadata": {},
   "outputs": [],
   "source": [
    "language_mapper = {\"ta\": \"tam\", \"hi\": \"hin\"}\n",
    "\n",
    "trns_model = Transliterator(source=language_mapper[language], target='eng', build_lookup=True)"
   ]
  },
  {
   "cell_type": "code",
   "execution_count": 6,
   "id": "45807d0e",
   "metadata": {},
   "outputs": [],
   "source": [
    "gold_text_trans = [trns_model.transform(text) for text in gold_text]"
   ]
  },
  {
   "cell_type": "code",
   "execution_count": null,
   "id": "35c35913",
   "metadata": {},
   "outputs": [
    {
     "name": "stderr",
     "output_type": "stream",
     "text": [
      " 29% (517 of 1781) |######               | Elapsed Time: 1:09:25 ETA:   2:28:27"
     ]
    }
   ],
   "source": [
    "encoder_text = list()\n",
    "decoder_text = list()\n",
    "encoder_text_lexicon = list()\n",
    "i = 0\n",
    "new_gold_text = list()\n",
    "for test_file in progressbar.progressbar(test_files):\n",
    "    with open(test_file, \"rb\") as audio_bytes:\n",
    "        files = {\"audio_file\": audio_bytes}\n",
    "        enhancer_url = config.enhancer_end_point\n",
    "        req = requests.post(enhancer_url, files=files)\n",
    "        enhanced_audio = req.content\n",
    "        transcriber_url = config.transcriber_end_point\n",
    "        files = {\"audio_file\": enhanced_audio}\n",
    "        req = requests.post(transcriber_url, params={'lexicon': \"False\", \"text\": \"\"}, files=files)\n",
    "        if req.text != 'Internal Server Error':\n",
    "            result = json.loads(req.text)\n",
    "            encoder_text.append(result['encoder_text'])\n",
    "            decoder_text.append(result['decoder_text'])\n",
    "            encoder_text_lexicon.append(result['decoder_text_lexicon'])\n",
    "            new_gold_text.append(gold_text_trans[i])\n",
    "        else:\n",
    "            pass\n",
    "\n",
    "gold_text = new_gold_text"
   ]
  },
  {
   "cell_type": "code",
   "execution_count": null,
   "id": "7690891c",
   "metadata": {},
   "outputs": [],
   "source": [
    "results = {\"truth\": gold_text,\n",
    "           \"encoder_text\": encoder_text,\n",
    "           \"decoder_text\": decoder_text,\n",
    "           \"decoder_lexicon\": encoder_text_lexicon}\n",
    "data_frame = pd.DataFrame.from_dict(results)\n",
    "data_frame.to_csv(result_file, sep=\"\\t\")"
   ]
  },
  {
   "cell_type": "code",
   "execution_count": null,
   "id": "1c77515b",
   "metadata": {},
   "outputs": [],
   "source": [
    "df = pd.read_csv(result_file, sep=\"\\t\")\n",
    "metric = load_metric(\"wer\")"
   ]
  },
  {
   "cell_type": "code",
   "execution_count": null,
   "id": "77ae3641",
   "metadata": {},
   "outputs": [],
   "source": [
    "references = list(df[\"truth\"])\n",
    "references = [reference.lower() for reference in references]\n",
    "\n",
    "predictions = list(df[\"encoder_text\"])\n",
    "\n",
    "metric.compute(predictions=predictions, references=references)"
   ]
  },
  {
   "cell_type": "code",
   "execution_count": null,
   "id": "9a25da22",
   "metadata": {},
   "outputs": [],
   "source": [
    "references = list(df[\"truth\"])\n",
    "references = [reference.lower() for reference in references]\n",
    "\n",
    "predictions = list(df[\"decoder_text\"])\n",
    "\n",
    "metric.compute(predictions=predictions, references=references)"
   ]
  },
  {
   "cell_type": "code",
   "execution_count": null,
   "id": "edc95c68",
   "metadata": {},
   "outputs": [],
   "source": [
    "references = list(df[\"truth\"])\n",
    "references = [reference.lower() for reference in references]\n",
    "\n",
    "predictions = list(df[\"decoder_lexicon\"])\n",
    "\n",
    "metric.compute(predictions=predictions, references=references)"
   ]
  }
 ],
 "metadata": {
  "kernelspec": {
   "display_name": "pycharm",
   "language": "python",
   "name": "pycharm"
  },
  "language_info": {
   "codemirror_mode": {
    "name": "ipython",
    "version": 3
   },
   "file_extension": ".py",
   "mimetype": "text/x-python",
   "name": "python",
   "nbconvert_exporter": "python",
   "pygments_lexer": "ipython3",
   "version": "3.8.0"
  }
 },
 "nbformat": 4,
 "nbformat_minor": 5
}
