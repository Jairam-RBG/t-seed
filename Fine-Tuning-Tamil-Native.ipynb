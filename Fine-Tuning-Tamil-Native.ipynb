{
 "cells": [
  {
   "cell_type": "code",
   "execution_count": 1,
   "id": "5b63859f",
   "metadata": {},
   "outputs": [
    {
     "name": "stderr",
     "output_type": "stream",
     "text": [
      "Reusing dataset common_voice (/home/ubuntu/.cache/huggingface/datasets/common_voice/ta/6.1.0/f7a9d973839b7706e9e281c19b7e512f31badf3c0fdbd21c671f3c4bf9acf3b9)\n",
      "Reusing dataset common_voice (/home/ubuntu/.cache/huggingface/datasets/common_voice/ta/6.1.0/f7a9d973839b7706e9e281c19b7e512f31badf3c0fdbd21c671f3c4bf9acf3b9)\n"
     ]
    }
   ],
   "source": [
    "from datasets import load_dataset, load_metric, Audio\n",
    "\n",
    "common_voice_train = load_dataset(\"common_voice\", \"ta\", split=\"train+validation\")\n",
    "common_voice_test = load_dataset(\"common_voice\", \"ta\", split=\"test\")"
   ]
  },
  {
   "cell_type": "code",
   "execution_count": 2,
   "id": "58cab750",
   "metadata": {},
   "outputs": [],
   "source": [
    "common_voice_train = common_voice_train.remove_columns([\"accent\", \"age\", \"client_id\", \"down_votes\", \"gender\", \"locale\", \"segment\", \"up_votes\"])\n",
    "common_voice_test = common_voice_test.remove_columns([\"accent\", \"age\", \"client_id\", \"down_votes\", \"gender\", \"locale\", \"segment\", \"up_votes\"])"
   ]
  },
  {
   "cell_type": "code",
   "execution_count": 3,
   "id": "6c40557a",
   "metadata": {},
   "outputs": [],
   "source": [
    "import re\n",
    "chars_to_ignore_regex = '[\\,\\?\\.\\!\\-\\;\\:\\\"\\“\\%\\‘\\”\\�]'\n",
    "\n",
    "\n",
    "def remove_special_characters(batch):\n",
    "    batch[\"sentence\"] = re.sub(chars_to_ignore_regex, '', batch[\"sentence\"]).upper() + \" \"\n",
    "    return batch"
   ]
  },
  {
   "cell_type": "code",
   "execution_count": 4,
   "id": "f05835f8",
   "metadata": {},
   "outputs": [
    {
     "name": "stderr",
     "output_type": "stream",
     "text": [
      "Loading cached processed dataset at /home/ubuntu/.cache/huggingface/datasets/common_voice/ta/6.1.0/f7a9d973839b7706e9e281c19b7e512f31badf3c0fdbd21c671f3c4bf9acf3b9/cache-67dbd7b46cd68275.arrow\n",
      "Loading cached processed dataset at /home/ubuntu/.cache/huggingface/datasets/common_voice/ta/6.1.0/f7a9d973839b7706e9e281c19b7e512f31badf3c0fdbd21c671f3c4bf9acf3b9/cache-43eaecaf161a67c9.arrow\n"
     ]
    }
   ],
   "source": [
    "common_voice_train = common_voice_train.map(remove_special_characters)\n",
    "common_voice_test = common_voice_test.map(remove_special_characters)"
   ]
  },
  {
   "cell_type": "code",
   "execution_count": 5,
   "id": "705e170f",
   "metadata": {},
   "outputs": [],
   "source": [
    "def extract_all_chars(batch):\n",
    "    all_text = \" \".join(batch[\"sentence\"])\n",
    "    vocab = list(set(all_text))\n",
    "    return {\"vocab\": [vocab], \"all_text\": [all_text]}"
   ]
  },
  {
   "cell_type": "code",
   "execution_count": 6,
   "id": "4fe09038",
   "metadata": {},
   "outputs": [
    {
     "data": {
      "application/vnd.jupyter.widget-view+json": {
       "model_id": "42466038cec54bf3b8cfaa3e01635769",
       "version_major": 2,
       "version_minor": 0
      },
      "text/plain": [
       "  0%|          | 0/1 [00:00<?, ?ba/s]"
      ]
     },
     "metadata": {},
     "output_type": "display_data"
    },
    {
     "data": {
      "application/vnd.jupyter.widget-view+json": {
       "model_id": "2c17bc6125ba4984b9f1be50f9c5aade",
       "version_major": 2,
       "version_minor": 0
      },
      "text/plain": [
       "  0%|          | 0/1 [00:00<?, ?ba/s]"
      ]
     },
     "metadata": {},
     "output_type": "display_data"
    }
   ],
   "source": [
    "vocab_train = common_voice_train.map(extract_all_chars, batched=True, batch_size=-1, keep_in_memory=True, remove_columns=common_voice_train.column_names)\n",
    "vocab_test = common_voice_test.map(extract_all_chars, batched=True, batch_size=-1, keep_in_memory=True, remove_columns=common_voice_test.column_names)"
   ]
  },
  {
   "cell_type": "code",
   "execution_count": 7,
   "id": "5b9b671c",
   "metadata": {},
   "outputs": [],
   "source": [
    "vocab_list = list(set(vocab_train[\"vocab\"][0]) | set(vocab_test[\"vocab\"][0]))"
   ]
  },
  {
   "cell_type": "code",
   "execution_count": 8,
   "id": "679964cf",
   "metadata": {},
   "outputs": [
    {
     "data": {
      "text/plain": [
       "{'ோ': 0,\n",
       " 'ூ': 1,\n",
       " 'ன': 2,\n",
       " 'ஈ': 3,\n",
       " 'க': 4,\n",
       " 'ஷ': 5,\n",
       " 'ஏ': 6,\n",
       " 'ண': 7,\n",
       " 'ங': 8,\n",
       " 'ஔ': 9,\n",
       " 'ஊ': 10,\n",
       " '’': 11,\n",
       " 'ெ': 12,\n",
       " 'ர': 13,\n",
       " 'எ': 14,\n",
       " 'உ': 15,\n",
       " 'ப': 16,\n",
       " '்': 17,\n",
       " 'ஞ': 18,\n",
       " 'ச': 19,\n",
       " 'அ': 20,\n",
       " 'ே': 21,\n",
       " 'ஸ': 22,\n",
       " 'ஆ': 23,\n",
       " 'ட': 24,\n",
       " 'ஜ': 25,\n",
       " 'இ': 26,\n",
       " 'ழ': 27,\n",
       " 'ள': 28,\n",
       " 'ற': 29,\n",
       " 'ய': 30,\n",
       " 'ஒ': 31,\n",
       " 'ௌ': 32,\n",
       " 'ஃ': 33,\n",
       " 'த': 34,\n",
       " 'ஹ': 35,\n",
       " 'ி': 36,\n",
       " 'ை': 37,\n",
       " 'ல': 38,\n",
       " 'ந': 39,\n",
       " 'ா': 40,\n",
       " 'ஐ': 41,\n",
       " 'ு': 42,\n",
       " 'ீ': 43,\n",
       " 'வ': 44,\n",
       " 'ம': 45,\n",
       " 'ஓ': 46,\n",
       " 'ொ': 47,\n",
       " \"'\": 48,\n",
       " ' ': 49}"
      ]
     },
     "execution_count": 8,
     "metadata": {},
     "output_type": "execute_result"
    }
   ],
   "source": [
    "vocab_dict = {v: k for k, v in enumerate(vocab_list)}\n",
    "vocab_dict"
   ]
  },
  {
   "cell_type": "code",
   "execution_count": 9,
   "id": "0b5719dd",
   "metadata": {},
   "outputs": [],
   "source": [
    "vocab_dict[\"|\"] = vocab_dict[\" \"]\n",
    "del vocab_dict[\" \"]"
   ]
  },
  {
   "cell_type": "code",
   "execution_count": 10,
   "id": "e206e7f4",
   "metadata": {},
   "outputs": [
    {
     "data": {
      "text/plain": [
       "52"
      ]
     },
     "execution_count": 10,
     "metadata": {},
     "output_type": "execute_result"
    }
   ],
   "source": [
    "vocab_dict[\"<unk>\"] = len(vocab_dict)\n",
    "vocab_dict[\"<pad>\"] = len(vocab_dict)\n",
    "len(vocab_dict)"
   ]
  },
  {
   "cell_type": "code",
   "execution_count": 11,
   "id": "81827119",
   "metadata": {},
   "outputs": [],
   "source": [
    "import json\n",
    "with open('config/native_vocab.json', 'w') as vocab_file:\n",
    "    json.dump(vocab_dict, vocab_file)"
   ]
  },
  {
   "cell_type": "code",
   "execution_count": 12,
   "id": "fe7c3b4b",
   "metadata": {},
   "outputs": [],
   "source": [
    "from transformers import Wav2Vec2CTCTokenizer\n",
    "\n",
    "tokenizer = Wav2Vec2CTCTokenizer(\"config/native_vocab.json\", unk_token=\"<unk>\", pad_token=\"<pad>\", word_delimiter_token=\"|\")"
   ]
  },
  {
   "cell_type": "code",
   "execution_count": 13,
   "id": "04a2dba3",
   "metadata": {},
   "outputs": [],
   "source": [
    "from transformers import Wav2Vec2FeatureExtractor\n",
    "\n",
    "feature_extractor = Wav2Vec2FeatureExtractor(feature_size=1, sampling_rate=16000, padding_value=0.0, do_normalize=True, return_attention_mask=True)"
   ]
  },
  {
   "cell_type": "code",
   "execution_count": 14,
   "id": "78bfbaa2",
   "metadata": {},
   "outputs": [],
   "source": [
    "from transformers import Wav2Vec2Processor\n",
    "\n",
    "processor = Wav2Vec2Processor(feature_extractor=feature_extractor, tokenizer=tokenizer)"
   ]
  },
  {
   "cell_type": "code",
   "execution_count": 15,
   "id": "98736c77",
   "metadata": {},
   "outputs": [
    {
     "data": {
      "text/plain": [
       "{'path': '/home/ubuntu/.cache/huggingface/datasets/downloads/extracted/bbc7e5ef7e1baed3b86a20ce9e146e069a26e1bebd1feadc09a550c84ff03cf0/cv-corpus-6.1-2020-12-11/ta/clips/common_voice_ta_19171502.mp3',\n",
       " 'array': array([0.        , 0.        , 0.        , ..., 0.00075823, 0.00074035,\n",
       "        0.00111735], dtype=float32),\n",
       " 'sampling_rate': 48000}"
      ]
     },
     "execution_count": 15,
     "metadata": {},
     "output_type": "execute_result"
    }
   ],
   "source": [
    "common_voice_train[0][\"audio\"]"
   ]
  },
  {
   "cell_type": "code",
   "execution_count": 16,
   "id": "4b19d3be",
   "metadata": {},
   "outputs": [],
   "source": [
    "common_voice_train = common_voice_train.cast_column(\"audio\", Audio(sampling_rate=16_000))\n",
    "common_voice_test = common_voice_test.cast_column(\"audio\", Audio(sampling_rate=16_000))"
   ]
  },
  {
   "cell_type": "code",
   "execution_count": 17,
   "id": "c04cd4b6",
   "metadata": {},
   "outputs": [
    {
     "data": {
      "text/plain": [
       "{'path': '/home/ubuntu/.cache/huggingface/datasets/downloads/extracted/bbc7e5ef7e1baed3b86a20ce9e146e069a26e1bebd1feadc09a550c84ff03cf0/cv-corpus-6.1-2020-12-11/ta/clips/common_voice_ta_19171502.mp3',\n",
       " 'array': array([0.        , 0.        , 0.        , ..., 0.00103243, 0.00046855,\n",
       "        0.00098617], dtype=float32),\n",
       " 'sampling_rate': 16000}"
      ]
     },
     "execution_count": 17,
     "metadata": {},
     "output_type": "execute_result"
    }
   ],
   "source": [
    "common_voice_train[0][\"audio\"]"
   ]
  },
  {
   "cell_type": "code",
   "execution_count": 18,
   "id": "23acbafb",
   "metadata": {},
   "outputs": [
    {
     "name": "stdout",
     "output_type": "stream",
     "text": [
      "Target text: ஞாலம் கருதினும் கைகூடும் காலங்கருதி இடத்தாற் செயின் \n",
      "Input array shape: (99072,)\n",
      "Sampling rate: 16000\n"
     ]
    }
   ],
   "source": [
    "import random\n",
    "rand_int = random.randint(0, len(common_voice_train)-1)\n",
    "\n",
    "print(\"Target text:\", common_voice_train[rand_int][\"sentence\"])\n",
    "print(\"Input array shape:\", common_voice_train[rand_int][\"audio\"][\"array\"].shape)\n",
    "print(\"Sampling rate:\", common_voice_train[rand_int][\"audio\"][\"sampling_rate\"])"
   ]
  },
  {
   "cell_type": "code",
   "execution_count": 19,
   "id": "aae55f50",
   "metadata": {},
   "outputs": [],
   "source": [
    "def prepare_dataset(batch):\n",
    "    audio = batch[\"audio\"]\n",
    "\n",
    "    # batched output is \"un-batched\"\n",
    "    batch[\"input_values\"] = processor(audio[\"array\"], sampling_rate=audio[\"sampling_rate\"]).input_values[0]\n",
    "    \n",
    "    with processor.as_target_processor():\n",
    "        batch[\"labels\"] = processor(batch[\"sentence\"]).input_ids\n",
    "    return batch"
   ]
  },
  {
   "cell_type": "code",
   "execution_count": 20,
   "id": "863d3865",
   "metadata": {},
   "outputs": [
    {
     "data": {
      "application/vnd.jupyter.widget-view+json": {
       "model_id": "a6f8056a329f42ea9058d5f445eb0bc7",
       "version_major": 2,
       "version_minor": 0
      },
      "text/plain": [
       "  0%|          | 0/3788 [00:00<?, ?ex/s]"
      ]
     },
     "metadata": {},
     "output_type": "display_data"
    },
    {
     "data": {
      "application/vnd.jupyter.widget-view+json": {
       "model_id": "47c946c9f4d149eab1ee50f631a9997a",
       "version_major": 2,
       "version_minor": 0
      },
      "text/plain": [
       "  0%|          | 0/1781 [00:00<?, ?ex/s]"
      ]
     },
     "metadata": {},
     "output_type": "display_data"
    }
   ],
   "source": [
    "common_voice_train = common_voice_train.map(prepare_dataset, remove_columns=common_voice_train.column_names)\n",
    "common_voice_test = common_voice_test.map(prepare_dataset, remove_columns=common_voice_test.column_names)"
   ]
  },
  {
   "cell_type": "code",
   "execution_count": 21,
   "id": "d69eedb4",
   "metadata": {},
   "outputs": [],
   "source": [
    "import torch\n",
    "\n",
    "from dataclasses import dataclass, field\n",
    "from typing import Any, Dict, List, Optional, Union\n",
    "\n",
    "@dataclass\n",
    "class DataCollatorCTCWithPadding:\n",
    "    \"\"\"\n",
    "    Data collator that will dynamically pad the inputs received.\n",
    "    Args:\n",
    "        processor (:class:`~transformers.Wav2Vec2Processor`)\n",
    "            The processor used for proccessing the data.\n",
    "        padding (:obj:`bool`, :obj:`str` or :class:`~transformers.tokenization_utils_base.PaddingStrategy`, `optional`, defaults to :obj:`True`):\n",
    "            Select a strategy to pad the returned sequences (according to the model's padding side and padding index)\n",
    "            among:\n",
    "            * :obj:`True` or :obj:`'longest'`: Pad to the longest sequence in the batch (or no padding if only a single\n",
    "              sequence if provided).\n",
    "            * :obj:`'max_length'`: Pad to a maximum length specified with the argument :obj:`max_length` or to the\n",
    "              maximum acceptable input length for the model if that argument is not provided.\n",
    "            * :obj:`False` or :obj:`'do_not_pad'` (default): No padding (i.e., can output a batch with sequences of\n",
    "              different lengths).\n",
    "        max_length (:obj:`int`, `optional`):\n",
    "            Maximum length of the ``input_values`` of the returned list and optionally padding length (see above).\n",
    "        max_length_labels (:obj:`int`, `optional`):\n",
    "            Maximum length of the ``labels`` returned list and optionally padding length (see above).\n",
    "        pad_to_multiple_of (:obj:`int`, `optional`):\n",
    "            If set will pad the sequence to a multiple of the provided value.\n",
    "            This is especially useful to enable the use of Tensor Cores on NVIDIA hardware with compute capability >=\n",
    "            7.5 (Volta).\n",
    "    \"\"\"\n",
    "\n",
    "    processor: Wav2Vec2Processor\n",
    "    padding: Union[bool, str] = True\n",
    "    max_length: Optional[int] = None\n",
    "    max_length_labels: Optional[int] = None\n",
    "    pad_to_multiple_of: Optional[int] = None\n",
    "    pad_to_multiple_of_labels: Optional[int] = None\n",
    "\n",
    "    def __call__(self, features: List[Dict[str, Union[List[int], torch.Tensor]]]) -> Dict[str, torch.Tensor]:\n",
    "        # split inputs and labels since they have to be of different lenghts and need\n",
    "        # different padding methods\n",
    "        input_features = [{\"input_values\": feature[\"input_values\"]} for feature in features]\n",
    "        label_features = [{\"input_ids\": feature[\"labels\"]} for feature in features]\n",
    "\n",
    "        batch = self.processor.pad(\n",
    "            input_features,\n",
    "            padding=self.padding,\n",
    "            max_length=self.max_length,\n",
    "            pad_to_multiple_of=self.pad_to_multiple_of,\n",
    "            return_tensors=\"pt\",\n",
    "        )\n",
    "        with self.processor.as_target_processor():\n",
    "            labels_batch = self.processor.pad(\n",
    "                label_features,\n",
    "                padding=self.padding,\n",
    "                max_length=self.max_length_labels,\n",
    "                pad_to_multiple_of=self.pad_to_multiple_of_labels,\n",
    "                return_tensors=\"pt\",\n",
    "            )\n",
    "\n",
    "        # replace padding with -100 to ignore loss correctly\n",
    "        labels = labels_batch[\"input_ids\"].masked_fill(labels_batch.attention_mask.ne(1), -100)\n",
    "\n",
    "        batch[\"labels\"] = labels\n",
    "\n",
    "        return batch"
   ]
  },
  {
   "cell_type": "code",
   "execution_count": 22,
   "id": "3dfefe47",
   "metadata": {},
   "outputs": [],
   "source": [
    "data_collator = DataCollatorCTCWithPadding(processor=processor, padding=True)"
   ]
  },
  {
   "cell_type": "code",
   "execution_count": 23,
   "id": "799315a6",
   "metadata": {},
   "outputs": [],
   "source": [
    "wer_metric = load_metric(\"wer\")"
   ]
  },
  {
   "cell_type": "code",
   "execution_count": 24,
   "id": "145382be",
   "metadata": {},
   "outputs": [],
   "source": [
    "import numpy as np\n",
    "def compute_metrics(pred):\n",
    "    pred_logits = pred.predictions\n",
    "    pred_ids = np.argmax(pred_logits, axis=-1)\n",
    "\n",
    "    pred.label_ids[pred.label_ids == -100] = processor.tokenizer.pad_token_id\n",
    "\n",
    "    pred_str = processor.batch_decode(pred_ids)\n",
    "    # we do not want to group tokens when computing the metrics\n",
    "    label_str = processor.batch_decode(pred.label_ids, group_tokens=False)\n",
    "\n",
    "    wer = wer_metric.compute(predictions=pred_str, references=label_str)\n",
    "\n",
    "    return {\"wer\": wer}"
   ]
  },
  {
   "cell_type": "code",
   "execution_count": 25,
   "id": "a20a2bf9",
   "metadata": {},
   "outputs": [
    {
     "name": "stderr",
     "output_type": "stream",
     "text": [
      "Some weights of the model checkpoint at facebook/wav2vec2-large-xlsr-53 were not used when initializing Wav2Vec2ForCTC: ['quantizer.weight_proj.weight', 'project_hid.weight', 'project_hid.bias', 'quantizer.weight_proj.bias', 'project_q.weight', 'project_q.bias', 'quantizer.codevectors']\n",
      "- This IS expected if you are initializing Wav2Vec2ForCTC from the checkpoint of a model trained on another task or with another architecture (e.g. initializing a BertForSequenceClassification model from a BertForPreTraining model).\n",
      "- This IS NOT expected if you are initializing Wav2Vec2ForCTC from the checkpoint of a model that you expect to be exactly identical (initializing a BertForSequenceClassification model from a BertForSequenceClassification model).\n",
      "Some weights of Wav2Vec2ForCTC were not initialized from the model checkpoint at facebook/wav2vec2-large-xlsr-53 and are newly initialized: ['lm_head.bias', 'lm_head.weight']\n",
      "You should probably TRAIN this model on a down-stream task to be able to use it for predictions and inference.\n"
     ]
    }
   ],
   "source": [
    "from transformers import Wav2Vec2ForCTC\n",
    "\n",
    "model = Wav2Vec2ForCTC.from_pretrained(\n",
    "    \"facebook/wav2vec2-large-xlsr-53\", \n",
    "    attention_dropout=0.1,\n",
    "    hidden_dropout=0.1,\n",
    "    feat_proj_dropout=0.0,\n",
    "    mask_time_prob=0.05,\n",
    "    layerdrop=0.1,\n",
    "    ctc_loss_reduction=\"mean\", \n",
    "    pad_token_id=processor.tokenizer.pad_token_id,\n",
    "    vocab_size=len(processor.tokenizer)\n",
    ")"
   ]
  },
  {
   "cell_type": "code",
   "execution_count": 26,
   "id": "cc4d995c",
   "metadata": {},
   "outputs": [],
   "source": [
    "model.freeze_feature_extractor()\n",
    "model.gradient_checkpointing_enable()"
   ]
  },
  {
   "cell_type": "code",
   "execution_count": 27,
   "id": "2d6839d9",
   "metadata": {},
   "outputs": [],
   "source": [
    "from transformers import TrainingArguments\n",
    "\n",
    "training_args = TrainingArguments(\n",
    "  output_dir=\"wav2vec2-large-rbg-tamil-native\",\n",
    "  group_by_length=True,\n",
    "  per_device_train_batch_size=16,\n",
    "  gradient_accumulation_steps=2,\n",
    "  evaluation_strategy=\"steps\",\n",
    "  num_train_epochs=50,\n",
    "  fp16=True,\n",
    "  save_steps=100,\n",
    "  eval_steps=100,\n",
    "  logging_steps=10,\n",
    "  learning_rate=3e-4,\n",
    "  warmup_steps=500,\n",
    "  save_total_limit=2,\n",
    ")"
   ]
  },
  {
   "cell_type": "code",
   "execution_count": 28,
   "id": "57a435a0",
   "metadata": {},
   "outputs": [
    {
     "name": "stderr",
     "output_type": "stream",
     "text": [
      "Using amp fp16 backend\n"
     ]
    }
   ],
   "source": [
    "from transformers import Trainer\n",
    "\n",
    "trainer = Trainer(\n",
    "    model=model,\n",
    "    data_collator=data_collator,\n",
    "    args=training_args,\n",
    "    compute_metrics=compute_metrics,\n",
    "    train_dataset=common_voice_train,\n",
    "    eval_dataset=common_voice_test,\n",
    "    tokenizer=processor.feature_extractor,\n",
    ")"
   ]
  },
  {
   "cell_type": "code",
   "execution_count": null,
   "id": "b6a04e68",
   "metadata": {},
   "outputs": [
    {
     "name": "stderr",
     "output_type": "stream",
     "text": [
      "***** Running training *****\n",
      "  Num examples = 3788\n",
      "  Num Epochs = 50\n",
      "  Instantaneous batch size per device = 16\n",
      "  Total train batch size (w. parallel, distributed & accumulation) = 32\n",
      "  Gradient Accumulation steps = 2\n",
      "  Total optimization steps = 5900\n",
      "/home/ubuntu/environments/t-seed/lib/python3.8/site-packages/transformers/feature_extraction_utils.py:158: UserWarning: Creating a tensor from a list of numpy.ndarrays is extremely slow. Please consider converting the list to a single numpy.ndarray with numpy.array() before converting to a tensor. (Triggered internally at  ../torch/csrc/utils/tensor_new.cpp:201.)\n",
      "  tensor = as_tensor(value)\n",
      "/home/ubuntu/environments/t-seed/lib/python3.8/site-packages/transformers/models/wav2vec2/modeling_wav2vec2.py:882: UserWarning: __floordiv__ is deprecated, and its behavior will change in a future version of pytorch. It currently rounds toward 0 (like the 'trunc' function NOT 'floor'). This results in incorrect rounding for negative values. To keep the current behavior, use torch.div(a, b, rounding_mode='trunc'), or for actual floor division, use torch.div(a, b, rounding_mode='floor').\n",
      "  return (input_length - kernel_size) // stride + 1\n"
     ]
    },
    {
     "data": {
      "text/html": [
       "\n",
       "    <div>\n",
       "      \n",
       "      <progress value='2528' max='5900' style='width:300px; height:20px; vertical-align: middle;'></progress>\n",
       "      [2528/5900 5:14:35 < 6:59:57, 0.13 it/s, Epoch 21.41/50]\n",
       "    </div>\n",
       "    <table border=\"1\" class=\"dataframe\">\n",
       "  <thead>\n",
       "    <tr style=\"text-align: left;\">\n",
       "      <th>Step</th>\n",
       "      <th>Training Loss</th>\n",
       "      <th>Validation Loss</th>\n",
       "      <th>Wer</th>\n",
       "    </tr>\n",
       "  </thead>\n",
       "  <tbody>\n",
       "    <tr>\n",
       "      <td>100</td>\n",
       "      <td>5.246700</td>\n",
       "      <td>4.490550</td>\n",
       "      <td>1.000000</td>\n",
       "    </tr>\n",
       "    <tr>\n",
       "      <td>200</td>\n",
       "      <td>3.260200</td>\n",
       "      <td>3.297335</td>\n",
       "      <td>1.000000</td>\n",
       "    </tr>\n",
       "    <tr>\n",
       "      <td>300</td>\n",
       "      <td>3.210300</td>\n",
       "      <td>3.286759</td>\n",
       "      <td>1.000000</td>\n",
       "    </tr>\n",
       "    <tr>\n",
       "      <td>400</td>\n",
       "      <td>3.106500</td>\n",
       "      <td>3.138422</td>\n",
       "      <td>1.003934</td>\n",
       "    </tr>\n",
       "    <tr>\n",
       "      <td>500</td>\n",
       "      <td>2.413000</td>\n",
       "      <td>2.089836</td>\n",
       "      <td>1.321062</td>\n",
       "    </tr>\n",
       "    <tr>\n",
       "      <td>600</td>\n",
       "      <td>0.897700</td>\n",
       "      <td>0.801531</td>\n",
       "      <td>1.021638</td>\n",
       "    </tr>\n",
       "    <tr>\n",
       "      <td>700</td>\n",
       "      <td>0.620900</td>\n",
       "      <td>0.663970</td>\n",
       "      <td>1.014613</td>\n",
       "    </tr>\n",
       "    <tr>\n",
       "      <td>800</td>\n",
       "      <td>0.532800</td>\n",
       "      <td>0.607341</td>\n",
       "      <td>0.933258</td>\n",
       "    </tr>\n",
       "    <tr>\n",
       "      <td>900</td>\n",
       "      <td>0.508400</td>\n",
       "      <td>0.583970</td>\n",
       "      <td>0.945904</td>\n",
       "    </tr>\n",
       "    <tr>\n",
       "      <td>1000</td>\n",
       "      <td>0.429800</td>\n",
       "      <td>0.571419</td>\n",
       "      <td>0.885766</td>\n",
       "    </tr>\n",
       "    <tr>\n",
       "      <td>1100</td>\n",
       "      <td>0.335600</td>\n",
       "      <td>0.572442</td>\n",
       "      <td>0.898834</td>\n",
       "    </tr>\n",
       "    <tr>\n",
       "      <td>1200</td>\n",
       "      <td>0.339900</td>\n",
       "      <td>0.579229</td>\n",
       "      <td>0.874385</td>\n",
       "    </tr>\n",
       "    <tr>\n",
       "      <td>1300</td>\n",
       "      <td>0.351200</td>\n",
       "      <td>0.575550</td>\n",
       "      <td>0.861177</td>\n",
       "    </tr>\n",
       "    <tr>\n",
       "      <td>1400</td>\n",
       "      <td>0.343700</td>\n",
       "      <td>0.614049</td>\n",
       "      <td>0.897569</td>\n",
       "    </tr>\n",
       "    <tr>\n",
       "      <td>1500</td>\n",
       "      <td>0.254300</td>\n",
       "      <td>0.587059</td>\n",
       "      <td>0.865252</td>\n",
       "    </tr>\n",
       "    <tr>\n",
       "      <td>1600</td>\n",
       "      <td>0.267400</td>\n",
       "      <td>0.619941</td>\n",
       "      <td>0.877898</td>\n",
       "    </tr>\n",
       "    <tr>\n",
       "      <td>1700</td>\n",
       "      <td>0.232500</td>\n",
       "      <td>0.642785</td>\n",
       "      <td>0.893213</td>\n",
       "    </tr>\n",
       "    <tr>\n",
       "      <td>1800</td>\n",
       "      <td>0.239800</td>\n",
       "      <td>0.652363</td>\n",
       "      <td>0.856822</td>\n",
       "    </tr>\n",
       "    <tr>\n",
       "      <td>1900</td>\n",
       "      <td>0.195400</td>\n",
       "      <td>0.636509</td>\n",
       "      <td>0.853871</td>\n",
       "    </tr>\n",
       "    <tr>\n",
       "      <td>2000</td>\n",
       "      <td>0.190300</td>\n",
       "      <td>0.648246</td>\n",
       "      <td>0.879022</td>\n",
       "    </tr>\n",
       "    <tr>\n",
       "      <td>2100</td>\n",
       "      <td>0.211700</td>\n",
       "      <td>0.680941</td>\n",
       "      <td>0.879725</td>\n",
       "    </tr>\n",
       "    <tr>\n",
       "      <td>2200</td>\n",
       "      <td>0.210200</td>\n",
       "      <td>0.663358</td>\n",
       "      <td>0.862583</td>\n",
       "    </tr>\n",
       "    <tr>\n",
       "      <td>2300</td>\n",
       "      <td>0.170500</td>\n",
       "      <td>0.669202</td>\n",
       "      <td>0.848391</td>\n",
       "    </tr>\n",
       "    <tr>\n",
       "      <td>2400</td>\n",
       "      <td>0.171000</td>\n",
       "      <td>0.672543</td>\n",
       "      <td>0.856822</td>\n",
       "    </tr>\n",
       "    <tr>\n",
       "      <td>2500</td>\n",
       "      <td>0.170200</td>\n",
       "      <td>0.686527</td>\n",
       "      <td>0.857946</td>\n",
       "    </tr>\n",
       "  </tbody>\n",
       "</table><p>"
      ],
      "text/plain": [
       "<IPython.core.display.HTML object>"
      ]
     },
     "metadata": {},
     "output_type": "display_data"
    },
    {
     "name": "stderr",
     "output_type": "stream",
     "text": [
      "***** Running Evaluation *****\n",
      "  Num examples = 1781\n",
      "  Batch size = 8\n",
      "Saving model checkpoint to wav2vec2-large-rbg-tamil-native/checkpoint-100\n",
      "Configuration saved in wav2vec2-large-rbg-tamil-native/checkpoint-100/config.json\n",
      "Model weights saved in wav2vec2-large-rbg-tamil-native/checkpoint-100/pytorch_model.bin\n",
      "Configuration saved in wav2vec2-large-rbg-tamil-native/checkpoint-100/preprocessor_config.json\n",
      "/home/ubuntu/environments/t-seed/lib/python3.8/site-packages/transformers/models/wav2vec2/modeling_wav2vec2.py:882: UserWarning: __floordiv__ is deprecated, and its behavior will change in a future version of pytorch. It currently rounds toward 0 (like the 'trunc' function NOT 'floor'). This results in incorrect rounding for negative values. To keep the current behavior, use torch.div(a, b, rounding_mode='trunc'), or for actual floor division, use torch.div(a, b, rounding_mode='floor').\n",
      "  return (input_length - kernel_size) // stride + 1\n",
      "***** Running Evaluation *****\n",
      "  Num examples = 1781\n",
      "  Batch size = 8\n",
      "Saving model checkpoint to wav2vec2-large-rbg-tamil-native/checkpoint-200\n",
      "Configuration saved in wav2vec2-large-rbg-tamil-native/checkpoint-200/config.json\n",
      "Model weights saved in wav2vec2-large-rbg-tamil-native/checkpoint-200/pytorch_model.bin\n",
      "Configuration saved in wav2vec2-large-rbg-tamil-native/checkpoint-200/preprocessor_config.json\n",
      "/home/ubuntu/environments/t-seed/lib/python3.8/site-packages/transformers/models/wav2vec2/modeling_wav2vec2.py:882: UserWarning: __floordiv__ is deprecated, and its behavior will change in a future version of pytorch. It currently rounds toward 0 (like the 'trunc' function NOT 'floor'). This results in incorrect rounding for negative values. To keep the current behavior, use torch.div(a, b, rounding_mode='trunc'), or for actual floor division, use torch.div(a, b, rounding_mode='floor').\n",
      "  return (input_length - kernel_size) // stride + 1\n",
      "***** Running Evaluation *****\n",
      "  Num examples = 1781\n",
      "  Batch size = 8\n",
      "Saving model checkpoint to wav2vec2-large-rbg-tamil-native/checkpoint-300\n",
      "Configuration saved in wav2vec2-large-rbg-tamil-native/checkpoint-300/config.json\n",
      "Model weights saved in wav2vec2-large-rbg-tamil-native/checkpoint-300/pytorch_model.bin\n",
      "Configuration saved in wav2vec2-large-rbg-tamil-native/checkpoint-300/preprocessor_config.json\n",
      "Deleting older checkpoint [wav2vec2-large-rbg-tamil-native/checkpoint-100] due to args.save_total_limit\n",
      "/home/ubuntu/environments/t-seed/lib/python3.8/site-packages/transformers/models/wav2vec2/modeling_wav2vec2.py:882: UserWarning: __floordiv__ is deprecated, and its behavior will change in a future version of pytorch. It currently rounds toward 0 (like the 'trunc' function NOT 'floor'). This results in incorrect rounding for negative values. To keep the current behavior, use torch.div(a, b, rounding_mode='trunc'), or for actual floor division, use torch.div(a, b, rounding_mode='floor').\n",
      "  return (input_length - kernel_size) // stride + 1\n",
      "***** Running Evaluation *****\n",
      "  Num examples = 1781\n",
      "  Batch size = 8\n",
      "Saving model checkpoint to wav2vec2-large-rbg-tamil-native/checkpoint-400\n",
      "Configuration saved in wav2vec2-large-rbg-tamil-native/checkpoint-400/config.json\n",
      "Model weights saved in wav2vec2-large-rbg-tamil-native/checkpoint-400/pytorch_model.bin\n",
      "Configuration saved in wav2vec2-large-rbg-tamil-native/checkpoint-400/preprocessor_config.json\n",
      "Deleting older checkpoint [wav2vec2-large-rbg-tamil-native/checkpoint-200] due to args.save_total_limit\n",
      "/home/ubuntu/environments/t-seed/lib/python3.8/site-packages/transformers/models/wav2vec2/modeling_wav2vec2.py:882: UserWarning: __floordiv__ is deprecated, and its behavior will change in a future version of pytorch. It currently rounds toward 0 (like the 'trunc' function NOT 'floor'). This results in incorrect rounding for negative values. To keep the current behavior, use torch.div(a, b, rounding_mode='trunc'), or for actual floor division, use torch.div(a, b, rounding_mode='floor').\n",
      "  return (input_length - kernel_size) // stride + 1\n",
      "***** Running Evaluation *****\n",
      "  Num examples = 1781\n",
      "  Batch size = 8\n",
      "Saving model checkpoint to wav2vec2-large-rbg-tamil-native/checkpoint-500\n",
      "Configuration saved in wav2vec2-large-rbg-tamil-native/checkpoint-500/config.json\n",
      "Model weights saved in wav2vec2-large-rbg-tamil-native/checkpoint-500/pytorch_model.bin\n",
      "Configuration saved in wav2vec2-large-rbg-tamil-native/checkpoint-500/preprocessor_config.json\n",
      "Deleting older checkpoint [wav2vec2-large-rbg-tamil-native/checkpoint-300] due to args.save_total_limit\n",
      "/home/ubuntu/environments/t-seed/lib/python3.8/site-packages/transformers/models/wav2vec2/modeling_wav2vec2.py:882: UserWarning: __floordiv__ is deprecated, and its behavior will change in a future version of pytorch. It currently rounds toward 0 (like the 'trunc' function NOT 'floor'). This results in incorrect rounding for negative values. To keep the current behavior, use torch.div(a, b, rounding_mode='trunc'), or for actual floor division, use torch.div(a, b, rounding_mode='floor').\n",
      "  return (input_length - kernel_size) // stride + 1\n",
      "***** Running Evaluation *****\n",
      "  Num examples = 1781\n",
      "  Batch size = 8\n",
      "Saving model checkpoint to wav2vec2-large-rbg-tamil-native/checkpoint-600\n",
      "Configuration saved in wav2vec2-large-rbg-tamil-native/checkpoint-600/config.json\n",
      "Model weights saved in wav2vec2-large-rbg-tamil-native/checkpoint-600/pytorch_model.bin\n",
      "Configuration saved in wav2vec2-large-rbg-tamil-native/checkpoint-600/preprocessor_config.json\n",
      "Deleting older checkpoint [wav2vec2-large-rbg-tamil-native/checkpoint-400] due to args.save_total_limit\n",
      "/home/ubuntu/environments/t-seed/lib/python3.8/site-packages/transformers/models/wav2vec2/modeling_wav2vec2.py:882: UserWarning: __floordiv__ is deprecated, and its behavior will change in a future version of pytorch. It currently rounds toward 0 (like the 'trunc' function NOT 'floor'). This results in incorrect rounding for negative values. To keep the current behavior, use torch.div(a, b, rounding_mode='trunc'), or for actual floor division, use torch.div(a, b, rounding_mode='floor').\n",
      "  return (input_length - kernel_size) // stride + 1\n",
      "***** Running Evaluation *****\n",
      "  Num examples = 1781\n",
      "  Batch size = 8\n",
      "Saving model checkpoint to wav2vec2-large-rbg-tamil-native/checkpoint-700\n",
      "Configuration saved in wav2vec2-large-rbg-tamil-native/checkpoint-700/config.json\n",
      "Model weights saved in wav2vec2-large-rbg-tamil-native/checkpoint-700/pytorch_model.bin\n",
      "Configuration saved in wav2vec2-large-rbg-tamil-native/checkpoint-700/preprocessor_config.json\n",
      "Deleting older checkpoint [wav2vec2-large-rbg-tamil-native/checkpoint-500] due to args.save_total_limit\n",
      "/home/ubuntu/environments/t-seed/lib/python3.8/site-packages/transformers/models/wav2vec2/modeling_wav2vec2.py:882: UserWarning: __floordiv__ is deprecated, and its behavior will change in a future version of pytorch. It currently rounds toward 0 (like the 'trunc' function NOT 'floor'). This results in incorrect rounding for negative values. To keep the current behavior, use torch.div(a, b, rounding_mode='trunc'), or for actual floor division, use torch.div(a, b, rounding_mode='floor').\n",
      "  return (input_length - kernel_size) // stride + 1\n",
      "***** Running Evaluation *****\n",
      "  Num examples = 1781\n",
      "  Batch size = 8\n",
      "Saving model checkpoint to wav2vec2-large-rbg-tamil-native/checkpoint-800\n",
      "Configuration saved in wav2vec2-large-rbg-tamil-native/checkpoint-800/config.json\n",
      "Model weights saved in wav2vec2-large-rbg-tamil-native/checkpoint-800/pytorch_model.bin\n",
      "Configuration saved in wav2vec2-large-rbg-tamil-native/checkpoint-800/preprocessor_config.json\n",
      "Deleting older checkpoint [wav2vec2-large-rbg-tamil-native/checkpoint-600] due to args.save_total_limit\n",
      "/home/ubuntu/environments/t-seed/lib/python3.8/site-packages/transformers/models/wav2vec2/modeling_wav2vec2.py:882: UserWarning: __floordiv__ is deprecated, and its behavior will change in a future version of pytorch. It currently rounds toward 0 (like the 'trunc' function NOT 'floor'). This results in incorrect rounding for negative values. To keep the current behavior, use torch.div(a, b, rounding_mode='trunc'), or for actual floor division, use torch.div(a, b, rounding_mode='floor').\n",
      "  return (input_length - kernel_size) // stride + 1\n"
     ]
    },
    {
     "name": "stderr",
     "output_type": "stream",
     "text": [
      "***** Running Evaluation *****\n",
      "  Num examples = 1781\n",
      "  Batch size = 8\n",
      "Saving model checkpoint to wav2vec2-large-rbg-tamil-native/checkpoint-900\n",
      "Configuration saved in wav2vec2-large-rbg-tamil-native/checkpoint-900/config.json\n",
      "Model weights saved in wav2vec2-large-rbg-tamil-native/checkpoint-900/pytorch_model.bin\n",
      "Configuration saved in wav2vec2-large-rbg-tamil-native/checkpoint-900/preprocessor_config.json\n",
      "Deleting older checkpoint [wav2vec2-large-rbg-tamil-native/checkpoint-700] due to args.save_total_limit\n",
      "/home/ubuntu/environments/t-seed/lib/python3.8/site-packages/transformers/models/wav2vec2/modeling_wav2vec2.py:882: UserWarning: __floordiv__ is deprecated, and its behavior will change in a future version of pytorch. It currently rounds toward 0 (like the 'trunc' function NOT 'floor'). This results in incorrect rounding for negative values. To keep the current behavior, use torch.div(a, b, rounding_mode='trunc'), or for actual floor division, use torch.div(a, b, rounding_mode='floor').\n",
      "  return (input_length - kernel_size) // stride + 1\n",
      "***** Running Evaluation *****\n",
      "  Num examples = 1781\n",
      "  Batch size = 8\n",
      "Saving model checkpoint to wav2vec2-large-rbg-tamil-native/checkpoint-1000\n",
      "Configuration saved in wav2vec2-large-rbg-tamil-native/checkpoint-1000/config.json\n",
      "Model weights saved in wav2vec2-large-rbg-tamil-native/checkpoint-1000/pytorch_model.bin\n",
      "Configuration saved in wav2vec2-large-rbg-tamil-native/checkpoint-1000/preprocessor_config.json\n",
      "Deleting older checkpoint [wav2vec2-large-rbg-tamil-native/checkpoint-800] due to args.save_total_limit\n",
      "/home/ubuntu/environments/t-seed/lib/python3.8/site-packages/transformers/models/wav2vec2/modeling_wav2vec2.py:882: UserWarning: __floordiv__ is deprecated, and its behavior will change in a future version of pytorch. It currently rounds toward 0 (like the 'trunc' function NOT 'floor'). This results in incorrect rounding for negative values. To keep the current behavior, use torch.div(a, b, rounding_mode='trunc'), or for actual floor division, use torch.div(a, b, rounding_mode='floor').\n",
      "  return (input_length - kernel_size) // stride + 1\n",
      "***** Running Evaluation *****\n",
      "  Num examples = 1781\n",
      "  Batch size = 8\n",
      "Saving model checkpoint to wav2vec2-large-rbg-tamil-native/checkpoint-1100\n",
      "Configuration saved in wav2vec2-large-rbg-tamil-native/checkpoint-1100/config.json\n",
      "Model weights saved in wav2vec2-large-rbg-tamil-native/checkpoint-1100/pytorch_model.bin\n",
      "Configuration saved in wav2vec2-large-rbg-tamil-native/checkpoint-1100/preprocessor_config.json\n",
      "Deleting older checkpoint [wav2vec2-large-rbg-tamil-native/checkpoint-900] due to args.save_total_limit\n",
      "/home/ubuntu/environments/t-seed/lib/python3.8/site-packages/transformers/models/wav2vec2/modeling_wav2vec2.py:882: UserWarning: __floordiv__ is deprecated, and its behavior will change in a future version of pytorch. It currently rounds toward 0 (like the 'trunc' function NOT 'floor'). This results in incorrect rounding for negative values. To keep the current behavior, use torch.div(a, b, rounding_mode='trunc'), or for actual floor division, use torch.div(a, b, rounding_mode='floor').\n",
      "  return (input_length - kernel_size) // stride + 1\n",
      "***** Running Evaluation *****\n",
      "  Num examples = 1781\n",
      "  Batch size = 8\n",
      "Saving model checkpoint to wav2vec2-large-rbg-tamil-native/checkpoint-1200\n",
      "Configuration saved in wav2vec2-large-rbg-tamil-native/checkpoint-1200/config.json\n",
      "Model weights saved in wav2vec2-large-rbg-tamil-native/checkpoint-1200/pytorch_model.bin\n",
      "Configuration saved in wav2vec2-large-rbg-tamil-native/checkpoint-1200/preprocessor_config.json\n",
      "Deleting older checkpoint [wav2vec2-large-rbg-tamil-native/checkpoint-1000] due to args.save_total_limit\n",
      "/home/ubuntu/environments/t-seed/lib/python3.8/site-packages/transformers/models/wav2vec2/modeling_wav2vec2.py:882: UserWarning: __floordiv__ is deprecated, and its behavior will change in a future version of pytorch. It currently rounds toward 0 (like the 'trunc' function NOT 'floor'). This results in incorrect rounding for negative values. To keep the current behavior, use torch.div(a, b, rounding_mode='trunc'), or for actual floor division, use torch.div(a, b, rounding_mode='floor').\n",
      "  return (input_length - kernel_size) // stride + 1\n",
      "***** Running Evaluation *****\n",
      "  Num examples = 1781\n",
      "  Batch size = 8\n",
      "Saving model checkpoint to wav2vec2-large-rbg-tamil-native/checkpoint-1300\n",
      "Configuration saved in wav2vec2-large-rbg-tamil-native/checkpoint-1300/config.json\n",
      "Model weights saved in wav2vec2-large-rbg-tamil-native/checkpoint-1300/pytorch_model.bin\n",
      "Configuration saved in wav2vec2-large-rbg-tamil-native/checkpoint-1300/preprocessor_config.json\n",
      "Deleting older checkpoint [wav2vec2-large-rbg-tamil-native/checkpoint-1100] due to args.save_total_limit\n",
      "/home/ubuntu/environments/t-seed/lib/python3.8/site-packages/transformers/models/wav2vec2/modeling_wav2vec2.py:882: UserWarning: __floordiv__ is deprecated, and its behavior will change in a future version of pytorch. It currently rounds toward 0 (like the 'trunc' function NOT 'floor'). This results in incorrect rounding for negative values. To keep the current behavior, use torch.div(a, b, rounding_mode='trunc'), or for actual floor division, use torch.div(a, b, rounding_mode='floor').\n",
      "  return (input_length - kernel_size) // stride + 1\n",
      "***** Running Evaluation *****\n",
      "  Num examples = 1781\n",
      "  Batch size = 8\n",
      "Saving model checkpoint to wav2vec2-large-rbg-tamil-native/checkpoint-1400\n",
      "Configuration saved in wav2vec2-large-rbg-tamil-native/checkpoint-1400/config.json\n",
      "Model weights saved in wav2vec2-large-rbg-tamil-native/checkpoint-1400/pytorch_model.bin\n",
      "Configuration saved in wav2vec2-large-rbg-tamil-native/checkpoint-1400/preprocessor_config.json\n",
      "Deleting older checkpoint [wav2vec2-large-rbg-tamil-native/checkpoint-1200] due to args.save_total_limit\n",
      "/home/ubuntu/environments/t-seed/lib/python3.8/site-packages/transformers/models/wav2vec2/modeling_wav2vec2.py:882: UserWarning: __floordiv__ is deprecated, and its behavior will change in a future version of pytorch. It currently rounds toward 0 (like the 'trunc' function NOT 'floor'). This results in incorrect rounding for negative values. To keep the current behavior, use torch.div(a, b, rounding_mode='trunc'), or for actual floor division, use torch.div(a, b, rounding_mode='floor').\n",
      "  return (input_length - kernel_size) // stride + 1\n",
      "***** Running Evaluation *****\n",
      "  Num examples = 1781\n",
      "  Batch size = 8\n",
      "Saving model checkpoint to wav2vec2-large-rbg-tamil-native/checkpoint-1500\n",
      "Configuration saved in wav2vec2-large-rbg-tamil-native/checkpoint-1500/config.json\n",
      "Model weights saved in wav2vec2-large-rbg-tamil-native/checkpoint-1500/pytorch_model.bin\n",
      "Configuration saved in wav2vec2-large-rbg-tamil-native/checkpoint-1500/preprocessor_config.json\n",
      "Deleting older checkpoint [wav2vec2-large-rbg-tamil-native/checkpoint-1300] due to args.save_total_limit\n",
      "/home/ubuntu/environments/t-seed/lib/python3.8/site-packages/transformers/models/wav2vec2/modeling_wav2vec2.py:882: UserWarning: __floordiv__ is deprecated, and its behavior will change in a future version of pytorch. It currently rounds toward 0 (like the 'trunc' function NOT 'floor'). This results in incorrect rounding for negative values. To keep the current behavior, use torch.div(a, b, rounding_mode='trunc'), or for actual floor division, use torch.div(a, b, rounding_mode='floor').\n",
      "  return (input_length - kernel_size) // stride + 1\n",
      "***** Running Evaluation *****\n",
      "  Num examples = 1781\n",
      "  Batch size = 8\n",
      "Saving model checkpoint to wav2vec2-large-rbg-tamil-native/checkpoint-1600\n",
      "Configuration saved in wav2vec2-large-rbg-tamil-native/checkpoint-1600/config.json\n",
      "Model weights saved in wav2vec2-large-rbg-tamil-native/checkpoint-1600/pytorch_model.bin\n",
      "Configuration saved in wav2vec2-large-rbg-tamil-native/checkpoint-1600/preprocessor_config.json\n",
      "Deleting older checkpoint [wav2vec2-large-rbg-tamil-native/checkpoint-1400] due to args.save_total_limit\n",
      "/home/ubuntu/environments/t-seed/lib/python3.8/site-packages/transformers/models/wav2vec2/modeling_wav2vec2.py:882: UserWarning: __floordiv__ is deprecated, and its behavior will change in a future version of pytorch. It currently rounds toward 0 (like the 'trunc' function NOT 'floor'). This results in incorrect rounding for negative values. To keep the current behavior, use torch.div(a, b, rounding_mode='trunc'), or for actual floor division, use torch.div(a, b, rounding_mode='floor').\n",
      "  return (input_length - kernel_size) // stride + 1\n"
     ]
    },
    {
     "name": "stderr",
     "output_type": "stream",
     "text": [
      "***** Running Evaluation *****\n",
      "  Num examples = 1781\n",
      "  Batch size = 8\n",
      "Saving model checkpoint to wav2vec2-large-rbg-tamil-native/checkpoint-1700\n",
      "Configuration saved in wav2vec2-large-rbg-tamil-native/checkpoint-1700/config.json\n",
      "Model weights saved in wav2vec2-large-rbg-tamil-native/checkpoint-1700/pytorch_model.bin\n",
      "Configuration saved in wav2vec2-large-rbg-tamil-native/checkpoint-1700/preprocessor_config.json\n",
      "Deleting older checkpoint [wav2vec2-large-rbg-tamil-native/checkpoint-1500] due to args.save_total_limit\n",
      "/home/ubuntu/environments/t-seed/lib/python3.8/site-packages/transformers/models/wav2vec2/modeling_wav2vec2.py:882: UserWarning: __floordiv__ is deprecated, and its behavior will change in a future version of pytorch. It currently rounds toward 0 (like the 'trunc' function NOT 'floor'). This results in incorrect rounding for negative values. To keep the current behavior, use torch.div(a, b, rounding_mode='trunc'), or for actual floor division, use torch.div(a, b, rounding_mode='floor').\n",
      "  return (input_length - kernel_size) // stride + 1\n",
      "***** Running Evaluation *****\n",
      "  Num examples = 1781\n",
      "  Batch size = 8\n",
      "Saving model checkpoint to wav2vec2-large-rbg-tamil-native/checkpoint-1800\n",
      "Configuration saved in wav2vec2-large-rbg-tamil-native/checkpoint-1800/config.json\n",
      "Model weights saved in wav2vec2-large-rbg-tamil-native/checkpoint-1800/pytorch_model.bin\n",
      "Configuration saved in wav2vec2-large-rbg-tamil-native/checkpoint-1800/preprocessor_config.json\n",
      "Deleting older checkpoint [wav2vec2-large-rbg-tamil-native/checkpoint-1600] due to args.save_total_limit\n",
      "/home/ubuntu/environments/t-seed/lib/python3.8/site-packages/transformers/models/wav2vec2/modeling_wav2vec2.py:882: UserWarning: __floordiv__ is deprecated, and its behavior will change in a future version of pytorch. It currently rounds toward 0 (like the 'trunc' function NOT 'floor'). This results in incorrect rounding for negative values. To keep the current behavior, use torch.div(a, b, rounding_mode='trunc'), or for actual floor division, use torch.div(a, b, rounding_mode='floor').\n",
      "  return (input_length - kernel_size) // stride + 1\n",
      "***** Running Evaluation *****\n",
      "  Num examples = 1781\n",
      "  Batch size = 8\n",
      "Saving model checkpoint to wav2vec2-large-rbg-tamil-native/checkpoint-1900\n",
      "Configuration saved in wav2vec2-large-rbg-tamil-native/checkpoint-1900/config.json\n",
      "Model weights saved in wav2vec2-large-rbg-tamil-native/checkpoint-1900/pytorch_model.bin\n",
      "Configuration saved in wav2vec2-large-rbg-tamil-native/checkpoint-1900/preprocessor_config.json\n",
      "Deleting older checkpoint [wav2vec2-large-rbg-tamil-native/checkpoint-1700] due to args.save_total_limit\n",
      "/home/ubuntu/environments/t-seed/lib/python3.8/site-packages/transformers/models/wav2vec2/modeling_wav2vec2.py:882: UserWarning: __floordiv__ is deprecated, and its behavior will change in a future version of pytorch. It currently rounds toward 0 (like the 'trunc' function NOT 'floor'). This results in incorrect rounding for negative values. To keep the current behavior, use torch.div(a, b, rounding_mode='trunc'), or for actual floor division, use torch.div(a, b, rounding_mode='floor').\n",
      "  return (input_length - kernel_size) // stride + 1\n",
      "***** Running Evaluation *****\n",
      "  Num examples = 1781\n",
      "  Batch size = 8\n",
      "Saving model checkpoint to wav2vec2-large-rbg-tamil-native/checkpoint-2000\n",
      "Configuration saved in wav2vec2-large-rbg-tamil-native/checkpoint-2000/config.json\n",
      "Model weights saved in wav2vec2-large-rbg-tamil-native/checkpoint-2000/pytorch_model.bin\n",
      "Configuration saved in wav2vec2-large-rbg-tamil-native/checkpoint-2000/preprocessor_config.json\n",
      "Deleting older checkpoint [wav2vec2-large-rbg-tamil-native/checkpoint-1800] due to args.save_total_limit\n",
      "/home/ubuntu/environments/t-seed/lib/python3.8/site-packages/transformers/models/wav2vec2/modeling_wav2vec2.py:882: UserWarning: __floordiv__ is deprecated, and its behavior will change in a future version of pytorch. It currently rounds toward 0 (like the 'trunc' function NOT 'floor'). This results in incorrect rounding for negative values. To keep the current behavior, use torch.div(a, b, rounding_mode='trunc'), or for actual floor division, use torch.div(a, b, rounding_mode='floor').\n",
      "  return (input_length - kernel_size) // stride + 1\n",
      "***** Running Evaluation *****\n",
      "  Num examples = 1781\n",
      "  Batch size = 8\n",
      "Saving model checkpoint to wav2vec2-large-rbg-tamil-native/checkpoint-2100\n",
      "Configuration saved in wav2vec2-large-rbg-tamil-native/checkpoint-2100/config.json\n",
      "Model weights saved in wav2vec2-large-rbg-tamil-native/checkpoint-2100/pytorch_model.bin\n",
      "Configuration saved in wav2vec2-large-rbg-tamil-native/checkpoint-2100/preprocessor_config.json\n",
      "Deleting older checkpoint [wav2vec2-large-rbg-tamil-native/checkpoint-1900] due to args.save_total_limit\n",
      "/home/ubuntu/environments/t-seed/lib/python3.8/site-packages/transformers/models/wav2vec2/modeling_wav2vec2.py:882: UserWarning: __floordiv__ is deprecated, and its behavior will change in a future version of pytorch. It currently rounds toward 0 (like the 'trunc' function NOT 'floor'). This results in incorrect rounding for negative values. To keep the current behavior, use torch.div(a, b, rounding_mode='trunc'), or for actual floor division, use torch.div(a, b, rounding_mode='floor').\n",
      "  return (input_length - kernel_size) // stride + 1\n",
      "***** Running Evaluation *****\n",
      "  Num examples = 1781\n",
      "  Batch size = 8\n",
      "Saving model checkpoint to wav2vec2-large-rbg-tamil-native/checkpoint-2200\n",
      "Configuration saved in wav2vec2-large-rbg-tamil-native/checkpoint-2200/config.json\n",
      "Model weights saved in wav2vec2-large-rbg-tamil-native/checkpoint-2200/pytorch_model.bin\n",
      "Configuration saved in wav2vec2-large-rbg-tamil-native/checkpoint-2200/preprocessor_config.json\n",
      "Deleting older checkpoint [wav2vec2-large-rbg-tamil-native/checkpoint-2000] due to args.save_total_limit\n",
      "/home/ubuntu/environments/t-seed/lib/python3.8/site-packages/transformers/models/wav2vec2/modeling_wav2vec2.py:882: UserWarning: __floordiv__ is deprecated, and its behavior will change in a future version of pytorch. It currently rounds toward 0 (like the 'trunc' function NOT 'floor'). This results in incorrect rounding for negative values. To keep the current behavior, use torch.div(a, b, rounding_mode='trunc'), or for actual floor division, use torch.div(a, b, rounding_mode='floor').\n",
      "  return (input_length - kernel_size) // stride + 1\n",
      "***** Running Evaluation *****\n",
      "  Num examples = 1781\n",
      "  Batch size = 8\n",
      "Saving model checkpoint to wav2vec2-large-rbg-tamil-native/checkpoint-2300\n",
      "Configuration saved in wav2vec2-large-rbg-tamil-native/checkpoint-2300/config.json\n",
      "Model weights saved in wav2vec2-large-rbg-tamil-native/checkpoint-2300/pytorch_model.bin\n",
      "Configuration saved in wav2vec2-large-rbg-tamil-native/checkpoint-2300/preprocessor_config.json\n",
      "Deleting older checkpoint [wav2vec2-large-rbg-tamil-native/checkpoint-2100] due to args.save_total_limit\n",
      "/home/ubuntu/environments/t-seed/lib/python3.8/site-packages/transformers/models/wav2vec2/modeling_wav2vec2.py:882: UserWarning: __floordiv__ is deprecated, and its behavior will change in a future version of pytorch. It currently rounds toward 0 (like the 'trunc' function NOT 'floor'). This results in incorrect rounding for negative values. To keep the current behavior, use torch.div(a, b, rounding_mode='trunc'), or for actual floor division, use torch.div(a, b, rounding_mode='floor').\n",
      "  return (input_length - kernel_size) // stride + 1\n",
      "***** Running Evaluation *****\n",
      "  Num examples = 1781\n",
      "  Batch size = 8\n",
      "Saving model checkpoint to wav2vec2-large-rbg-tamil-native/checkpoint-2400\n",
      "Configuration saved in wav2vec2-large-rbg-tamil-native/checkpoint-2400/config.json\n",
      "Model weights saved in wav2vec2-large-rbg-tamil-native/checkpoint-2400/pytorch_model.bin\n",
      "Configuration saved in wav2vec2-large-rbg-tamil-native/checkpoint-2400/preprocessor_config.json\n",
      "Deleting older checkpoint [wav2vec2-large-rbg-tamil-native/checkpoint-2200] due to args.save_total_limit\n",
      "/home/ubuntu/environments/t-seed/lib/python3.8/site-packages/transformers/models/wav2vec2/modeling_wav2vec2.py:882: UserWarning: __floordiv__ is deprecated, and its behavior will change in a future version of pytorch. It currently rounds toward 0 (like the 'trunc' function NOT 'floor'). This results in incorrect rounding for negative values. To keep the current behavior, use torch.div(a, b, rounding_mode='trunc'), or for actual floor division, use torch.div(a, b, rounding_mode='floor').\n",
      "  return (input_length - kernel_size) // stride + 1\n"
     ]
    },
    {
     "name": "stderr",
     "output_type": "stream",
     "text": [
      "***** Running Evaluation *****\n",
      "  Num examples = 1781\n",
      "  Batch size = 8\n",
      "Saving model checkpoint to wav2vec2-large-rbg-tamil-native/checkpoint-2500\n",
      "Configuration saved in wav2vec2-large-rbg-tamil-native/checkpoint-2500/config.json\n",
      "Model weights saved in wav2vec2-large-rbg-tamil-native/checkpoint-2500/pytorch_model.bin\n",
      "Configuration saved in wav2vec2-large-rbg-tamil-native/checkpoint-2500/preprocessor_config.json\n",
      "Deleting older checkpoint [wav2vec2-large-rbg-tamil-native/checkpoint-2300] due to args.save_total_limit\n",
      "/home/ubuntu/environments/t-seed/lib/python3.8/site-packages/transformers/models/wav2vec2/modeling_wav2vec2.py:882: UserWarning: __floordiv__ is deprecated, and its behavior will change in a future version of pytorch. It currently rounds toward 0 (like the 'trunc' function NOT 'floor'). This results in incorrect rounding for negative values. To keep the current behavior, use torch.div(a, b, rounding_mode='trunc'), or for actual floor division, use torch.div(a, b, rounding_mode='floor').\n",
      "  return (input_length - kernel_size) // stride + 1\n"
     ]
    }
   ],
   "source": [
    "trainer.train()"
   ]
  },
  {
   "cell_type": "code",
   "execution_count": null,
   "id": "9dbf66af",
   "metadata": {},
   "outputs": [],
   "source": []
  }
 ],
 "metadata": {
  "kernelspec": {
   "display_name": "t-s",
   "language": "python",
   "name": "t-seed"
  },
  "language_info": {
   "codemirror_mode": {
    "name": "ipython",
    "version": 3
   },
   "file_extension": ".py",
   "mimetype": "text/x-python",
   "name": "python",
   "nbconvert_exporter": "python",
   "pygments_lexer": "ipython3",
   "version": "3.8.0"
  }
 },
 "nbformat": 4,
 "nbformat_minor": 5
}
