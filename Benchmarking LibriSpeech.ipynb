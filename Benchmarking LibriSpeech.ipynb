{
 "cells": [
  {
   "cell_type": "code",
   "execution_count": null,
   "id": "aae6ed64",
   "metadata": {},
   "outputs": [],
   "source": [
    "from datasets import load_dataset\n",
    "import progressbar\n",
    "import requests\n",
    "import config\n",
    "import json\n",
    "import pandas as pd\n",
    "from datasets import load_metric"
   ]
  },
  {
   "cell_type": "code",
   "execution_count": null,
   "id": "4c5f0e25",
   "metadata": {},
   "outputs": [],
   "source": [
    "\n",
    "data = \"libri_speech\"\n",
    "split = \"test\" # \"validation\"\n",
    "\n",
    "result_file = \"results/\" + data + \"_\" + split + \".csv\""
   ]
  },
  {
   "cell_type": "code",
   "execution_count": null,
   "id": "90b5c381",
   "metadata": {},
   "outputs": [],
   "source": [
    "libri_clean = load_dataset(\"librispeech_asr\", \"clean\", split=split)\n",
    "test_files = list(libri_clean[\"file\"])\n",
    "gold_text = list(libri_clean[\"text\"])"
   ]
  },
  {
   "cell_type": "code",
   "execution_count": null,
   "id": "2f42134f",
   "metadata": {},
   "outputs": [],
   "source": [
    "encoder_text = list()\n",
    "decoder_text = list()\n",
    "encoder_text_lexicon = list()\n",
    "i = 0\n",
    "new_gold_text = list()\n",
    "for test_file in progressbar.progressbar(test_files):\n",
    "    with open(test_file, \"rb\") as audio_bytes:\n",
    "        files = {\"audio_file\": audio_bytes}\n",
    "        enhancer_url = config.enhancer_end_point\n",
    "        req = requests.post(enhancer_url, files=files)\n",
    "        enhanced_audio = req.content\n",
    "        transcriber_url = config.transcriber_end_point\n",
    "        files = {\"audio_file\": enhanced_audio}\n",
    "        req = requests.post(transcriber_url, params={'lexicon': \"False\", \"text\": \"\"}, files=files)\n",
    "        if req.text != 'Internal Server Error':\n",
    "            result = json.loads(req.text)\n",
    "            encoder_text.append(result['encoder_text'])\n",
    "            decoder_text.append(result['decoder_text'])\n",
    "            encoder_text_lexicon.append(result['decoder_text_lexicon'])\n",
    "            new_gold_text.append(gold_text[i])\n",
    "        else:\n",
    "            pass\n",
    "\n",
    "gold_text = new_gold_text"
   ]
  },
  {
   "cell_type": "code",
   "execution_count": null,
   "id": "c9f92676",
   "metadata": {},
   "outputs": [],
   "source": [
    "results = {\"truth\": gold_text,\n",
    "           \"encoder_text\": encoder_text,\n",
    "           \"decoder_text\": decoder_text,\n",
    "           \"decoder_lexicon\": encoder_text_lexicon}\n",
    "data_frame = pd.DataFrame.from_dict(results)\n",
    "data_frame.to_csv(result_file, sep=\"\\t\")"
   ]
  },
  {
   "cell_type": "code",
   "execution_count": null,
   "id": "140fa1bc",
   "metadata": {},
   "outputs": [],
   "source": [
    "df = pd.read_csv(result_file, sep=\"\\t\")\n",
    "metric = load_metric(\"wer\")"
   ]
  },
  {
   "cell_type": "code",
   "execution_count": null,
   "id": "9c733af8",
   "metadata": {},
   "outputs": [],
   "source": [
    "references = list(df[\"truth\"])\n",
    "references = [reference.lower() for reference in references]\n",
    "\n",
    "predictions = list(df[\"encoder_text\"])\n",
    "\n",
    "metric.compute(predictions=predictions, references=references)"
   ]
  },
  {
   "cell_type": "code",
   "execution_count": null,
   "id": "10eab23b",
   "metadata": {},
   "outputs": [],
   "source": [
    "references = list(df[\"truth\"])\n",
    "references = [reference.lower() for reference in references]\n",
    "\n",
    "predictions = list(df[\"decoder_text\"])\n",
    "\n",
    "metric.compute(predictions=predictions, references=references)"
   ]
  },
  {
   "cell_type": "code",
   "execution_count": null,
   "id": "05dffddc",
   "metadata": {},
   "outputs": [],
   "source": [
    "references = list(df[\"truth\"])\n",
    "references = [reference.lower() for reference in references]\n",
    "\n",
    "predictions = list(df[\"decoder_lexicon\"])\n",
    "\n",
    "metric.compute(predictions=predictions, references=references)"
   ]
  }
 ],
 "metadata": {
  "kernelspec": {
   "display_name": "pycharm",
   "language": "python",
   "name": "pycharm"
  },
  "language_info": {
   "codemirror_mode": {
    "name": "ipython",
    "version": 3
   },
   "file_extension": ".py",
   "mimetype": "text/x-python",
   "name": "python",
   "nbconvert_exporter": "python",
   "pygments_lexer": "ipython3",
   "version": "3.8.0"
  }
 },
 "nbformat": 4,
 "nbformat_minor": 5
}
